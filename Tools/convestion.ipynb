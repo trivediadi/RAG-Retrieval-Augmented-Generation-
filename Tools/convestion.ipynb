{
 "cells": [
  {
   "cell_type": "code",
   "execution_count": 2,
   "id": "88779bba",
   "metadata": {},
   "outputs": [],
   "source": [
    "from langchain_openai import ChatOpenAI\n",
    "from langchain_core.tools import tool\n",
    "from langchain_core.messages import HumanMessage\n",
    "import requests"
   ]
  },
  {
   "cell_type": "code",
   "execution_count": 5,
   "id": "ccd188f6",
   "metadata": {},
   "outputs": [],
   "source": [
    "# tool create\n",
    "@tool\n",
    "def get_conversion_factor(base_currency:str , target_currency:str)->float:\n",
    "    \"\"\"\n",
    "    This function fetches the currency conversion factor between a given base currency and a target currency\n",
    "    \"\"\"\n",
    "    url=f\"https://v6.exchangerate-api.com/v6/2e71ee36a81ff5183acb3d2d/pair/{base_currency}/{target_currency}\"\n",
    "    response=requests.get(url)\n",
    "    return response.json()"
   ]
  },
  {
   "cell_type": "code",
   "execution_count": 6,
   "id": "e0efdd3d",
   "metadata": {},
   "outputs": [
    {
     "data": {
      "text/plain": [
       "{'result': 'success',\n",
       " 'documentation': 'https://www.exchangerate-api.com/docs',\n",
       " 'terms_of_use': 'https://www.exchangerate-api.com/terms',\n",
       " 'time_last_update_unix': 1756166401,\n",
       " 'time_last_update_utc': 'Tue, 26 Aug 2025 00:00:01 +0000',\n",
       " 'time_next_update_unix': 1756252801,\n",
       " 'time_next_update_utc': 'Wed, 27 Aug 2025 00:00:01 +0000',\n",
       " 'base_code': 'USD',\n",
       " 'target_code': 'INR',\n",
       " 'conversion_rate': 87.6051}"
      ]
     },
     "execution_count": 6,
     "metadata": {},
     "output_type": "execute_result"
    }
   ],
   "source": [
    "get_conversion_factor.invoke({'base_currency':'USD','target_currency':'INR'})"
   ]
  },
  {
   "cell_type": "code",
   "execution_count": 7,
   "id": "b5ff95c4",
   "metadata": {},
   "outputs": [],
   "source": [
    "@tool\n",
    "def convert(base_currency_value:int,conversion_rate:float)->float:\n",
    "    \"\"\"\n",
    "    given a currency conversion rate this function calculates the target currency value from a given base currency value\n",
    "    \"\"\"\n",
    "    return base_currency_value*conversion_rate\n"
   ]
  },
  {
   "cell_type": "code",
   "execution_count": 9,
   "id": "678b5ce7",
   "metadata": {},
   "outputs": [
    {
     "data": {
      "text/plain": [
       "850.0"
      ]
     },
     "execution_count": 9,
     "metadata": {},
     "output_type": "execute_result"
    }
   ],
   "source": [
    "convert.invoke({'base_currency_value':'10','conversion_rate':'85'})"
   ]
  },
  {
   "cell_type": "code",
   "execution_count": 10,
   "id": "4c3721a4",
   "metadata": {},
   "outputs": [],
   "source": [
    "llm=ChatOpenAI()"
   ]
  },
  {
   "cell_type": "code",
   "execution_count": null,
   "id": "a1aa800f",
   "metadata": {},
   "outputs": [],
   "source": [
    "llm_with_tools_"
   ]
  }
 ],
 "metadata": {
  "kernelspec": {
   "display_name": "myenv",
   "language": "python",
   "name": "python3"
  },
  "language_info": {
   "codemirror_mode": {
    "name": "ipython",
    "version": 3
   },
   "file_extension": ".py",
   "mimetype": "text/x-python",
   "name": "python",
   "nbconvert_exporter": "python",
   "pygments_lexer": "ipython3",
   "version": "3.13.5"
  }
 },
 "nbformat": 4,
 "nbformat_minor": 5
}
